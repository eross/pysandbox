{
 "cells": [
  {
   "cell_type": "code",
   "execution_count": 1,
   "id": "cf11827b",
   "metadata": {},
   "outputs": [],
   "source": [
    "import pandas as pd\n"
   ]
  },
  {
   "cell_type": "code",
   "execution_count": 2,
   "id": "9c7ce03c",
   "metadata": {},
   "outputs": [],
   "source": [
    "df = pd.read_parquet('m.parquet', engine='pyarrow')"
   ]
  },
  {
   "cell_type": "code",
   "execution_count": 3,
   "id": "c0e6c743",
   "metadata": {},
   "outputs": [
    {
     "data": {
      "text/html": [
       "<div>\n",
       "<style scoped>\n",
       "    .dataframe tbody tr th:only-of-type {\n",
       "        vertical-align: middle;\n",
       "    }\n",
       "\n",
       "    .dataframe tbody tr th {\n",
       "        vertical-align: top;\n",
       "    }\n",
       "\n",
       "    .dataframe thead th {\n",
       "        text-align: right;\n",
       "    }\n",
       "</style>\n",
       "<table border=\"1\" class=\"dataframe\">\n",
       "  <thead>\n",
       "    <tr style=\"text-align: right;\">\n",
       "      <th></th>\n",
       "      <th>version</th>\n",
       "      <th>id</th>\n",
       "      <th>detail-type</th>\n",
       "      <th>source</th>\n",
       "      <th>account</th>\n",
       "      <th>time</th>\n",
       "      <th>region</th>\n",
       "      <th>resources</th>\n",
       "      <th>detail</th>\n",
       "    </tr>\n",
       "  </thead>\n",
       "  <tbody>\n",
       "    <tr>\n",
       "      <th>0</th>\n",
       "      <td>0</td>\n",
       "      <td>4d7c44ad-a69b-5533-23a7-39143f658e41</td>\n",
       "      <td>MongoDB Database Trigger for aapie.AAAssessmen...</td>\n",
       "      <td>aws.partner/mongodb.com/stitch.trigger/63758b8...</td>\n",
       "      <td>544739557829</td>\n",
       "      <td>2023-01-19T00:04:27Z</td>\n",
       "      <td>us-east-1</td>\n",
       "      <td>[arn:aws:events:us-east-1::event-source/aws.pa...</td>\n",
       "      <td>{'_id': {'_data': '8263C8890B000000022B022C010...</td>\n",
       "    </tr>\n",
       "    <tr>\n",
       "      <th>1</th>\n",
       "      <td>0</td>\n",
       "      <td>a3b7484a-759c-f5f3-b86d-46f01d51eb87</td>\n",
       "      <td>MongoDB Database Trigger for aapie.AAAssessmen...</td>\n",
       "      <td>aws.partner/mongodb.com/stitch.trigger/63758b8...</td>\n",
       "      <td>544739557829</td>\n",
       "      <td>2023-01-19T00:06:28Z</td>\n",
       "      <td>us-east-1</td>\n",
       "      <td>[arn:aws:events:us-east-1::event-source/aws.pa...</td>\n",
       "      <td>{'_id': {'_data': '8263C88983000000022B022C010...</td>\n",
       "    </tr>\n",
       "    <tr>\n",
       "      <th>2</th>\n",
       "      <td>0</td>\n",
       "      <td>fde857a0-1b36-7f21-0daa-2b3e2648e087</td>\n",
       "      <td>MongoDB Database Trigger for aapie.AAAssessmen...</td>\n",
       "      <td>aws.partner/mongodb.com/stitch.trigger/63758b8...</td>\n",
       "      <td>544739557829</td>\n",
       "      <td>2023-01-19T00:06:28Z</td>\n",
       "      <td>us-east-1</td>\n",
       "      <td>[arn:aws:events:us-east-1::event-source/aws.pa...</td>\n",
       "      <td>{'_id': {'_data': '8263C88983000000012B022C010...</td>\n",
       "    </tr>\n",
       "    <tr>\n",
       "      <th>3</th>\n",
       "      <td>0</td>\n",
       "      <td>683cc93e-e79b-44ae-8536-6177fe85755c</td>\n",
       "      <td>MongoDB Database Trigger for aapie.AAAssessmen...</td>\n",
       "      <td>aws.partner/mongodb.com/stitch.trigger/63758b8...</td>\n",
       "      <td>544739557829</td>\n",
       "      <td>2023-01-19T00:08:28Z</td>\n",
       "      <td>us-east-1</td>\n",
       "      <td>[arn:aws:events:us-east-1::event-source/aws.pa...</td>\n",
       "      <td>{'_id': {'_data': '8263C889FC000000022B022C010...</td>\n",
       "    </tr>\n",
       "    <tr>\n",
       "      <th>4</th>\n",
       "      <td>0</td>\n",
       "      <td>d87a62aa-26b2-1467-bdfb-e7c907cb003d</td>\n",
       "      <td>MongoDB Database Trigger for aapie.AAAssessmen...</td>\n",
       "      <td>aws.partner/mongodb.com/stitch.trigger/63758b8...</td>\n",
       "      <td>544739557829</td>\n",
       "      <td>2023-01-19T00:12:27Z</td>\n",
       "      <td>us-east-1</td>\n",
       "      <td>[arn:aws:events:us-east-1::event-source/aws.pa...</td>\n",
       "      <td>{'_id': {'_data': '8263C88AEB000000022B022C010...</td>\n",
       "    </tr>\n",
       "  </tbody>\n",
       "</table>\n",
       "</div>"
      ],
      "text/plain": [
       "  version                                    id  \\\n",
       "0       0  4d7c44ad-a69b-5533-23a7-39143f658e41   \n",
       "1       0  a3b7484a-759c-f5f3-b86d-46f01d51eb87   \n",
       "2       0  fde857a0-1b36-7f21-0daa-2b3e2648e087   \n",
       "3       0  683cc93e-e79b-44ae-8536-6177fe85755c   \n",
       "4       0  d87a62aa-26b2-1467-bdfb-e7c907cb003d   \n",
       "\n",
       "                                         detail-type  \\\n",
       "0  MongoDB Database Trigger for aapie.AAAssessmen...   \n",
       "1  MongoDB Database Trigger for aapie.AAAssessmen...   \n",
       "2  MongoDB Database Trigger for aapie.AAAssessmen...   \n",
       "3  MongoDB Database Trigger for aapie.AAAssessmen...   \n",
       "4  MongoDB Database Trigger for aapie.AAAssessmen...   \n",
       "\n",
       "                                              source       account  \\\n",
       "0  aws.partner/mongodb.com/stitch.trigger/63758b8...  544739557829   \n",
       "1  aws.partner/mongodb.com/stitch.trigger/63758b8...  544739557829   \n",
       "2  aws.partner/mongodb.com/stitch.trigger/63758b8...  544739557829   \n",
       "3  aws.partner/mongodb.com/stitch.trigger/63758b8...  544739557829   \n",
       "4  aws.partner/mongodb.com/stitch.trigger/63758b8...  544739557829   \n",
       "\n",
       "                   time     region  \\\n",
       "0  2023-01-19T00:04:27Z  us-east-1   \n",
       "1  2023-01-19T00:06:28Z  us-east-1   \n",
       "2  2023-01-19T00:06:28Z  us-east-1   \n",
       "3  2023-01-19T00:08:28Z  us-east-1   \n",
       "4  2023-01-19T00:12:27Z  us-east-1   \n",
       "\n",
       "                                           resources  \\\n",
       "0  [arn:aws:events:us-east-1::event-source/aws.pa...   \n",
       "1  [arn:aws:events:us-east-1::event-source/aws.pa...   \n",
       "2  [arn:aws:events:us-east-1::event-source/aws.pa...   \n",
       "3  [arn:aws:events:us-east-1::event-source/aws.pa...   \n",
       "4  [arn:aws:events:us-east-1::event-source/aws.pa...   \n",
       "\n",
       "                                              detail  \n",
       "0  {'_id': {'_data': '8263C8890B000000022B022C010...  \n",
       "1  {'_id': {'_data': '8263C88983000000022B022C010...  \n",
       "2  {'_id': {'_data': '8263C88983000000012B022C010...  \n",
       "3  {'_id': {'_data': '8263C889FC000000022B022C010...  \n",
       "4  {'_id': {'_data': '8263C88AEB000000022B022C010...  "
      ]
     },
     "execution_count": 3,
     "metadata": {},
     "output_type": "execute_result"
    }
   ],
   "source": [
    "df"
   ]
  },
  {
   "cell_type": "code",
   "execution_count": 4,
   "id": "4806ea08",
   "metadata": {},
   "outputs": [
    {
     "data": {
      "text/plain": [
       "0    [arn:aws:events:us-east-1::event-source/aws.pa...\n",
       "1    [arn:aws:events:us-east-1::event-source/aws.pa...\n",
       "2    [arn:aws:events:us-east-1::event-source/aws.pa...\n",
       "3    [arn:aws:events:us-east-1::event-source/aws.pa...\n",
       "4    [arn:aws:events:us-east-1::event-source/aws.pa...\n",
       "Name: resources, dtype: object"
      ]
     },
     "execution_count": 4,
     "metadata": {},
     "output_type": "execute_result"
    }
   ],
   "source": [
    "df['resources']"
   ]
  },
  {
   "cell_type": "code",
   "execution_count": 5,
   "id": "6f11b386",
   "metadata": {},
   "outputs": [
    {
     "data": {
      "text/plain": [
       "['BooleanDtype',\n",
       " 'Categorical',\n",
       " 'CategoricalDtype',\n",
       " 'CategoricalIndex',\n",
       " 'DataFrame',\n",
       " 'DateOffset',\n",
       " 'DatetimeIndex',\n",
       " 'DatetimeTZDtype',\n",
       " 'ExcelFile',\n",
       " 'ExcelWriter',\n",
       " 'Flags',\n",
       " 'Float32Dtype',\n",
       " 'Float64Dtype',\n",
       " 'Float64Index',\n",
       " 'Grouper',\n",
       " 'HDFStore',\n",
       " 'Index',\n",
       " 'IndexSlice',\n",
       " 'Int16Dtype',\n",
       " 'Int32Dtype',\n",
       " 'Int64Dtype',\n",
       " 'Int64Index',\n",
       " 'Int8Dtype',\n",
       " 'Interval',\n",
       " 'IntervalDtype',\n",
       " 'IntervalIndex',\n",
       " 'MultiIndex',\n",
       " 'NA',\n",
       " 'NaT',\n",
       " 'NamedAgg',\n",
       " 'Period',\n",
       " 'PeriodDtype',\n",
       " 'PeriodIndex',\n",
       " 'RangeIndex',\n",
       " 'Series',\n",
       " 'SparseDtype',\n",
       " 'StringDtype',\n",
       " 'Timedelta',\n",
       " 'TimedeltaIndex',\n",
       " 'Timestamp',\n",
       " 'UInt16Dtype',\n",
       " 'UInt32Dtype',\n",
       " 'UInt64Dtype',\n",
       " 'UInt64Index',\n",
       " 'UInt8Dtype',\n",
       " '__all__',\n",
       " '__builtins__',\n",
       " '__cached__',\n",
       " '__deprecated_num_index_names',\n",
       " '__dir__',\n",
       " '__doc__',\n",
       " '__docformat__',\n",
       " '__file__',\n",
       " '__getattr__',\n",
       " '__git_version__',\n",
       " '__loader__',\n",
       " '__name__',\n",
       " '__package__',\n",
       " '__path__',\n",
       " '__spec__',\n",
       " '__version__',\n",
       " '_config',\n",
       " '_is_numpy_dev',\n",
       " '_libs',\n",
       " '_testing',\n",
       " '_typing',\n",
       " '_version',\n",
       " 'api',\n",
       " 'array',\n",
       " 'arrays',\n",
       " 'bdate_range',\n",
       " 'compat',\n",
       " 'concat',\n",
       " 'core',\n",
       " 'crosstab',\n",
       " 'cut',\n",
       " 'date_range',\n",
       " 'describe_option',\n",
       " 'errors',\n",
       " 'eval',\n",
       " 'factorize',\n",
       " 'get_dummies',\n",
       " 'get_option',\n",
       " 'infer_freq',\n",
       " 'interval_range',\n",
       " 'io',\n",
       " 'isna',\n",
       " 'isnull',\n",
       " 'json_normalize',\n",
       " 'lreshape',\n",
       " 'melt',\n",
       " 'merge',\n",
       " 'merge_asof',\n",
       " 'merge_ordered',\n",
       " 'notna',\n",
       " 'notnull',\n",
       " 'offsets',\n",
       " 'option_context',\n",
       " 'options',\n",
       " 'pandas',\n",
       " 'period_range',\n",
       " 'pivot',\n",
       " 'pivot_table',\n",
       " 'plotting',\n",
       " 'qcut',\n",
       " 'read_clipboard',\n",
       " 'read_csv',\n",
       " 'read_excel',\n",
       " 'read_feather',\n",
       " 'read_fwf',\n",
       " 'read_gbq',\n",
       " 'read_hdf',\n",
       " 'read_html',\n",
       " 'read_json',\n",
       " 'read_orc',\n",
       " 'read_parquet',\n",
       " 'read_pickle',\n",
       " 'read_sas',\n",
       " 'read_spss',\n",
       " 'read_sql',\n",
       " 'read_sql_query',\n",
       " 'read_sql_table',\n",
       " 'read_stata',\n",
       " 'read_table',\n",
       " 'read_xml',\n",
       " 'reset_option',\n",
       " 'set_eng_float_format',\n",
       " 'set_option',\n",
       " 'show_versions',\n",
       " 'test',\n",
       " 'testing',\n",
       " 'timedelta_range',\n",
       " 'to_datetime',\n",
       " 'to_numeric',\n",
       " 'to_pickle',\n",
       " 'to_timedelta',\n",
       " 'tseries',\n",
       " 'unique',\n",
       " 'util',\n",
       " 'value_counts',\n",
       " 'wide_to_long']"
      ]
     },
     "execution_count": 5,
     "metadata": {},
     "output_type": "execute_result"
    }
   ],
   "source": [
    "dir(pd)"
   ]
  },
  {
   "cell_type": "code",
   "execution_count": 6,
   "id": "672fc04c",
   "metadata": {},
   "outputs": [],
   "source": [
    "pd.set_option('display.max_colwidth', None)"
   ]
  },
  {
   "cell_type": "code",
   "execution_count": 7,
   "id": "630c6e00",
   "metadata": {},
   "outputs": [
    {
     "data": {
      "text/plain": [
       "0    [arn:aws:events:us-east-1::event-source/aws.partner/mongodb.com/stitch.trigger/63758b8030889a9c00506d14]\n",
       "1    [arn:aws:events:us-east-1::event-source/aws.partner/mongodb.com/stitch.trigger/63758b8030889a9c00506d14]\n",
       "2    [arn:aws:events:us-east-1::event-source/aws.partner/mongodb.com/stitch.trigger/63758b8030889a9c00506d14]\n",
       "3    [arn:aws:events:us-east-1::event-source/aws.partner/mongodb.com/stitch.trigger/63758b8030889a9c00506d14]\n",
       "4    [arn:aws:events:us-east-1::event-source/aws.partner/mongodb.com/stitch.trigger/63758b8030889a9c00506d14]\n",
       "Name: resources, dtype: object"
      ]
     },
     "execution_count": 7,
     "metadata": {},
     "output_type": "execute_result"
    }
   ],
   "source": [
    "df['resources']"
   ]
  },
  {
   "cell_type": "code",
   "execution_count": 8,
   "id": "f03b7c4f",
   "metadata": {},
   "outputs": [
    {
     "data": {
      "text/plain": [
       "0    {'_id': {'_data': '8263C8890B000000022B022C0100296E5A1004B6AA763D919B4F70A195F2BE08BF26E846645F6964006463C8890B291BCC22E97B71250004'}, 'operationType': 'insert', 'clusterTime': {'T': 1674086667, 'I': 2}, 'fullDocument': {'_id': '63c8890b291bcc22e97b7125', 'version': 4, 'assessmentSeqId': 7559, 'consumableUniqueId': '4fdd8ded50b7881144230000000000000000000000000000000000000000000000', 'deviceUuid': '56e813bd-468b-4439-8148-3577d0deba2f', 'insertionState': 'ACK', 'deviceAssessment': 'GENUINE_HP', 'refill': 'NULL', 'pct10LevelRemaining': 100, 'pctLevelRemaining': 100, 'timestamp': 1674086667714, 'archive': False, '_class': 'com.hp.aa.aaservice.data.AAAssessmentEvent'}, 'ns': {'db': 'aapie', 'coll': 'AAAssessmentEvent'}, 'documentKey': {'_id': '63c8890b291bcc22e97b7125'}}\n",
       "1    {'_id': {'_data': '8263C88983000000022B022C0100296E5A1004B6AA763D919B4F70A195F2BE08BF26E846645F6964006463C889836917895A2F242E030004'}, 'operationType': 'insert', 'clusterTime': {'T': 1674086787, 'I': 2}, 'fullDocument': {'_id': '63c889836917895a2f242e03', 'version': 4, 'assessmentSeqId': 7298, 'consumableUniqueId': '4fdd8ded50b7881144230000000000000000000000000000000000000000000000', 'deviceUuid': '56e813bd-468b-4439-8148-3577d0deba2f', 'insertionState': 'ACK', 'deviceAssessment': 'GENUINE_HP', 'refill': 'NULL', 'pct10LevelRemaining': 100, 'pctLevelRemaining': 100, 'timestamp': 1674086787996, 'archive': False, '_class': 'com.hp.aa.aaservice.data.AAAssessmentEvent'}, 'ns': {'db': 'aapie', 'coll': 'AAAssessmentEvent'}, 'documentKey': {'_id': '63c889836917895a2f242e03'}}\n",
       "2    {'_id': {'_data': '8263C88983000000012B022C0100296E5A1004B6AA763D919B4F70A195F2BE08BF26E846645F6964006463C889836917895A2F242E020004'}, 'operationType': 'insert', 'clusterTime': {'T': 1674086787, 'I': 1}, 'fullDocument': {'_id': '63c889836917895a2f242e02', 'version': 4, 'assessmentSeqId': 7296, 'consumableUniqueId': 'd06e1e5da7b577911039b01af94000000000000000000000000000000000000000', 'deviceUuid': '56e813bd-468b-4439-8148-3577d0deba2f', 'insertionState': 'ACK', 'deviceAssessment': 'GENUINE_HP', 'refill': 'NULL', 'pct10LevelRemaining': 100, 'pctLevelRemaining': 100, 'timestamp': 1674086787986, 'archive': False, '_class': 'com.hp.aa.aaservice.data.AAAssessmentEvent'}, 'ns': {'db': 'aapie', 'coll': 'AAAssessmentEvent'}, 'documentKey': {'_id': '63c889836917895a2f242e02'}}\n",
       "3    {'_id': {'_data': '8263C889FC000000022B022C0100296E5A1004B6AA763D919B4F70A195F2BE08BF26E846645F6964006463C889FC291BCC22E97B71270004'}, 'operationType': 'insert', 'clusterTime': {'T': 1674086908, 'I': 2}, 'fullDocument': {'_id': '63c889fc291bcc22e97b7127', 'version': 4, 'assessmentSeqId': 7563, 'consumableUniqueId': '4fdd8ded50b7881144230000000000000000000000000000000000000000000000', 'deviceUuid': '56e813bd-468b-4439-8148-3577d0deba2f', 'insertionState': 'ACK', 'deviceAssessment': 'GENUINE_HP', 'refill': 'NULL', 'pct10LevelRemaining': 100, 'pctLevelRemaining': 100, 'timestamp': 1674086908279, 'archive': False, '_class': 'com.hp.aa.aaservice.data.AAAssessmentEvent'}, 'ns': {'db': 'aapie', 'coll': 'AAAssessmentEvent'}, 'documentKey': {'_id': '63c889fc291bcc22e97b7127'}}\n",
       "4    {'_id': {'_data': '8263C88AEB000000022B022C0100296E5A1004B6AA763D919B4F70A195F2BE08BF26E846645F6964006463C88AEB8948B15F0078E0CE0004'}, 'operationType': 'insert', 'clusterTime': {'T': 1674087147, 'I': 2}, 'fullDocument': {'_id': '63c88aeb8948b15f0078e0ce', 'version': 4, 'assessmentSeqId': 7278, 'consumableUniqueId': '4fdd8ded50b7881144230000000000000000000000000000000000000000000000', 'deviceUuid': '56e813bd-468b-4439-8148-3577d0deba2f', 'insertionState': 'ACK', 'deviceAssessment': 'GENUINE_HP', 'refill': 'NULL', 'pct10LevelRemaining': 100, 'pctLevelRemaining': 100, 'timestamp': 1674087147628, 'archive': False, '_class': 'com.hp.aa.aaservice.data.AAAssessmentEvent'}, 'ns': {'db': 'aapie', 'coll': 'AAAssessmentEvent'}, 'documentKey': {'_id': '63c88aeb8948b15f0078e0ce'}}\n",
       "Name: detail, dtype: object"
      ]
     },
     "execution_count": 8,
     "metadata": {},
     "output_type": "execute_result"
    }
   ],
   "source": [
    "df['detail']"
   ]
  },
  {
   "cell_type": "code",
   "execution_count": 9,
   "id": "a4a5245a",
   "metadata": {},
   "outputs": [
    {
     "name": "stdout",
     "output_type": "stream",
     "text": [
      "[('4fdd8ded50b7881144230000000000000000000000000000000000000000000000', 7559), ('4fdd8ded50b7881144230000000000000000000000000000000000000000000000', 7298), ('d06e1e5da7b577911039b01af94000000000000000000000000000000000000000', 7296), ('4fdd8ded50b7881144230000000000000000000000000000000000000000000000', 7563), ('4fdd8ded50b7881144230000000000000000000000000000000000000000000000', 7278)]\n"
     ]
    }
   ],
   "source": [
    "print(list((key['fullDocument']['consumableUniqueId'],key['fullDocument']['assessmentSeqId']) for key in df['detail']))"
   ]
  },
  {
   "cell_type": "code",
   "execution_count": null,
   "id": "56cd0783",
   "metadata": {},
   "outputs": [],
   "source": []
  }
 ],
 "metadata": {
  "kernelspec": {
   "display_name": "Python 3 (ipykernel)",
   "language": "python",
   "name": "python3"
  },
  "language_info": {
   "codemirror_mode": {
    "name": "ipython",
    "version": 3
   },
   "file_extension": ".py",
   "mimetype": "text/x-python",
   "name": "python",
   "nbconvert_exporter": "python",
   "pygments_lexer": "ipython3",
   "version": "3.9.13"
  }
 },
 "nbformat": 4,
 "nbformat_minor": 5
}
